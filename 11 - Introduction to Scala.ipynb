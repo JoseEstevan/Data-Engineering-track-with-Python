{
 "cells": [
  {
   "cell_type": "raw",
   "metadata": {},
   "source": [
    "1 - A Scalable Language"
   ]
  },
  {
   "cell_type": "code",
   "execution_count": null,
   "metadata": {},
   "outputs": [],
   "source": [
    "## Scala is object-oriented\n",
    "\n",
    "// Calculate the difference between 8 and 5\n",
    "val difference = 8-5\n",
    "\n",
    "// Print the difference\n",
    "println(difference)"
   ]
  },
  {
   "cell_type": "code",
   "execution_count": null,
   "metadata": {},
   "outputs": [],
   "source": []
  },
  {
   "cell_type": "code",
   "execution_count": null,
   "metadata": {},
   "outputs": [],
   "source": [
    "## Define immutable variables (val)\n",
    "\n",
    "// Define immutable variables for clubs 2♣ through 4♣\n",
    "val twoClubs: Int = 2\n",
    "val threeClubs: Int = 3\n",
    "val fourClubs: Int = 4"
   ]
  },
  {
   "cell_type": "code",
   "execution_count": null,
   "metadata": {},
   "outputs": [],
   "source": []
  },
  {
   "cell_type": "code",
   "execution_count": null,
   "metadata": {},
   "outputs": [],
   "source": [
    "## Don't try to change me\n",
    "\n",
    "// Define immutable variables for player names\n",
    "val playerA: String = \"Alex\"\n",
    "val playerB: String = \"Chen\"\n",
    "val playerC: String = \"Marta\"\n",
    "\n",
    "// Change playerC from Marta to Umberto\n",
    "playerC = \"Umberto\"\n",
    "\n",
    "\n",
    "// Define immutable variables for player names\n",
    "val playerA: String = \"Alex\"\n",
    "val playerB: String = \"Chen\"\n",
    "val playerC: String = \"Umberto\"\n",
    "\n",
    "// Change playerC from Marta to Umberto\n",
    "//playerC = \"Umberto\""
   ]
  },
  {
   "cell_type": "code",
   "execution_count": null,
   "metadata": {},
   "outputs": [],
   "source": []
  },
  {
   "cell_type": "code",
   "execution_count": null,
   "metadata": {},
   "outputs": [],
   "source": [
    "## Define mutable variables (var)\n",
    "\n",
    "// Define mutable variables for all aces\n",
    "var aceClubs: Int = 1\n",
    "var aceDiamonds: Int = 1\n",
    "var aceHearts: Int = 1\n",
    "var aceSpades: Int = 1"
   ]
  },
  {
   "cell_type": "code",
   "execution_count": null,
   "metadata": {},
   "outputs": [],
   "source": []
  },
  {
   "cell_type": "code",
   "execution_count": null,
   "metadata": {},
   "outputs": [],
   "source": [
    "## You can change me \n",
    "\n",
    "// Create a mutable variable for Alex as player A\n",
    "var playerA = \"Alex\"\n",
    "\n",
    "// Change the point value of A♦ from 1 to 11\n",
    "aceDiamonds = 11\n",
    "\n",
    "// Calculate hand value for J♣ and A♦\n",
    "println(aceDiamonds + jackClubs)"
   ]
  },
  {
   "cell_type": "code",
   "execution_count": null,
   "metadata": {},
   "outputs": [],
   "source": []
  },
  {
   "cell_type": "raw",
   "metadata": {},
   "source": [
    "2 - Workflows, Functions, Collections"
   ]
  },
  {
   "cell_type": "code",
   "execution_count": null,
   "metadata": {},
   "outputs": [],
   "source": []
  },
  {
   "cell_type": "code",
   "execution_count": null,
   "metadata": {},
   "outputs": [],
   "source": [
    "## Call a function\n",
    "\n",
    "// Calculate hand values\n",
    "var handPlayerA: Int = 19\n",
    "var handPlayerB: Int = 20\n",
    "\n",
    "// Find and print the maximum hand value\n",
    "println(maxHand(handPlayerA, handPlayerB))"
   ]
  },
  {
   "cell_type": "code",
   "execution_count": null,
   "metadata": {},
   "outputs": [],
   "source": []
  },
  {
   "cell_type": "code",
   "execution_count": null,
   "metadata": {},
   "outputs": [],
   "source": [
    "## Create and parameterize an array\n",
    "\n",
    "// Create and parameterize an array for a round of Twenty-One\n",
    "val hands: Array[Int] = new Array[Int](3)"
   ]
  },
  {
   "cell_type": "code",
   "execution_count": null,
   "metadata": {},
   "outputs": [],
   "source": []
  },
  {
   "cell_type": "code",
   "execution_count": null,
   "metadata": {},
   "outputs": [],
   "source": [
    "## Initialize an array\n",
    "\n",
    "// Create and parameterize an array for a round of Twenty-One\n",
    "val hands: Array[Int] = new Array[Int](3)\n",
    "\n",
    "// Initialize the first player's hand in the array\n",
    "hands(0) = tenClubs + fourDiamonds\n",
    "\n",
    "// Initialize the second player's hand in the array\n",
    "hands(1) = nineSpades + nineHearts\n",
    "\n",
    "// Initialize the third player's hand in the array\n",
    "hands(2) = twoClubs + threeSpades"
   ]
  },
  {
   "cell_type": "code",
   "execution_count": null,
   "metadata": {},
   "outputs": [],
   "source": []
  },
  {
   "cell_type": "code",
   "execution_count": null,
   "metadata": {},
   "outputs": [],
   "source": [
    "## An array, all at once\n",
    "\n",
    "// Create, parameterize, and initialize an array for a round of Twenty-One\n",
    "val hands =  Array(tenClubs + fourDiamonds,\n",
    "              nineSpades + nineHearts,\n",
    "              twoClubs + threeSpades)"
   ]
  },
  {
   "cell_type": "code",
   "execution_count": null,
   "metadata": {},
   "outputs": [],
   "source": []
  },
  {
   "cell_type": "code",
   "execution_count": null,
   "metadata": {},
   "outputs": [],
   "source": [
    "## Updating arrays\n",
    "\n",
    "// Print out hands before each player hits\n",
    "hands.foreach(println)\n",
    "\n",
    "// Add 5♣ to the first player's hand\n",
    "hands(0) = hands(0) + fiveClubs\n",
    "\n",
    "// Add Q♠ to the second player's hand\n",
    "hands(1) = hands(1) + queenSpades\n",
    "\n",
    "// Add K♣ to the third player's hand\n",
    "hands(2) = hands(2) + kingClubs\n",
    "\n",
    "// Print out hands after each player hits\n",
    "hands.foreach(println)"
   ]
  },
  {
   "cell_type": "code",
   "execution_count": null,
   "metadata": {},
   "outputs": [],
   "source": []
  },
  {
   "cell_type": "code",
   "execution_count": null,
   "metadata": {},
   "outputs": [],
   "source": [
    "## Initialize and prepend to a list\n",
    "\n",
    "// Initialize a list with an element for each round's prize\n",
    "val prizes = List(10, 15, 20, 25, 30)\n",
    "println(prizes)\n",
    "\n",
    "// Prepend to prizes to add another round and prize\n",
    "val newPrizes = 5 :: prizes \n",
    "println(newPrizes)"
   ]
  },
  {
   "cell_type": "code",
   "execution_count": null,
   "metadata": {},
   "outputs": [],
   "source": []
  },
  {
   "cell_type": "code",
   "execution_count": null,
   "metadata": {},
   "outputs": [],
   "source": [
    "## Initialize a list using cons and Nil\n",
    "\n",
    "// Initialize a list with an element each round's prize\n",
    "val prizes = 10 :: 15 :: 20 :: 25 :: 30 :: Nil\n",
    "println(prizes)"
   ]
  },
  {
   "cell_type": "code",
   "execution_count": null,
   "metadata": {},
   "outputs": [],
   "source": []
  },
  {
   "cell_type": "code",
   "execution_count": null,
   "metadata": {},
   "outputs": [],
   "source": [
    "\n",
    "\n",
    "// The original NTOA and EuroTO venue lists\n",
    "val venuesNTOA = List(\"The Grand Ballroom\", \"Atlantis Casino\", \"Doug's House\")\n",
    "val venuesEuroTO = \"Five Seasons Hotel\" :: \"The Electric Unicorn\" :: Nil\n",
    "\n",
    "// Concatenate the North American and European venues\n",
    "\n",
    "val venuesTOWorld = venuesNTOA ::: venuesEuroTO"
   ]
  },
  {
   "cell_type": "code",
   "execution_count": null,
   "metadata": {},
   "outputs": [],
   "source": []
  },
  {
   "cell_type": "raw",
   "metadata": {},
   "source": [
    "3 - Type Systems, Control Structures, Style"
   ]
  },
  {
   "cell_type": "code",
   "execution_count": null,
   "metadata": {},
   "outputs": [],
   "source": []
  },
  {
   "cell_type": "code",
   "execution_count": null,
   "metadata": {},
   "outputs": [],
   "source": [
    "## if and printing\n",
    "\n",
    "// Point value of a player's hand\n",
    "val hand = sevenClubs + kingDiamonds + threeSpades\n",
    "\n",
    "// Congratulate the player if they have reached 21\n",
    "\n",
    "if (hand == 21) {\n",
    "println(\"Twenty-One!\") \n",
    "}"
   ]
  },
  {
   "cell_type": "code",
   "execution_count": null,
   "metadata": {},
   "outputs": [],
   "source": []
  },
  {
   "cell_type": "code",
   "execution_count": null,
   "metadata": {},
   "outputs": [],
   "source": [
    "## if expressions result in a value\n",
    "\n",
    "// Point value of a player's hand\n",
    "val hand = sevenClubs + kingDiamonds + threeSpades\n",
    "\n",
    "// Inform a player where their current hand stands\n",
    "val informPlayer: String = {\n",
    "  if (hand > 21) \n",
    "    \"Bust! :(\"\n",
    "  else if ( hand == 21)\n",
    "    \"Twenty-One! :)\"\n",
    "  else\n",
    "    \"Hit or stay?\"\n",
    "}\n",
    "\n",
    "// Print the message\n",
    "print(informPlayer)"
   ]
  },
  {
   "cell_type": "code",
   "execution_count": null,
   "metadata": {},
   "outputs": [],
   "source": []
  },
  {
   "cell_type": "code",
   "execution_count": null,
   "metadata": {},
   "outputs": [],
   "source": [
    "## if and else inside of a function\n",
    "\n",
    "// Find the number of points that will cause a bust\n",
    "def pointsToBust(hand: Int): Int = {\n",
    "  // If the hand is a bust, 0 points remain\n",
    "  if (bust(hand))\n",
    "    0\n",
    "  // Otherwise, calculate the difference between 21 and the current hand\n",
    "  else\n",
    "    21 - hand\n",
    "}\n",
    "\n",
    "// Test pointsToBust with 10♠ and 5♣\n",
    "val myHandPointsToBust = pointsToBust(tenSpades + fiveClubs)\n",
    "println(myHandPointsToBust)"
   ]
  },
  {
   "cell_type": "code",
   "execution_count": null,
   "metadata": {},
   "outputs": [],
   "source": []
  },
  {
   "cell_type": "code",
   "execution_count": null,
   "metadata": {},
   "outputs": [],
   "source": [
    "## A simple while loop\n",
    "\n",
    "// Define counter variable\n",
    "var i = 0\n",
    "\n",
    "// Define the number of loop iterations\n",
    "val numRepetitions = 3\n",
    "\n",
    "// Loop to print a message for winner of the round\n",
    "while (i < numRepetitions) {\n",
    "  if (i < 2)\n",
    "    println(\"winner\")\n",
    "  else\n",
    "    println(\"chicken dinner\")\n",
    "  // Increment the counter variable\n",
    "  i = i+1\n",
    "}"
   ]
  },
  {
   "cell_type": "code",
   "execution_count": null,
   "metadata": {},
   "outputs": [],
   "source": []
  },
  {
   "cell_type": "code",
   "execution_count": null,
   "metadata": {},
   "outputs": [],
   "source": [
    "## Loop over a collection with while\n",
    "\n",
    "// Define counter variable\n",
    "var i = 0\n",
    "\n",
    "// Create list with five hands of Twenty-One\n",
    "var hands = List(16, 21, 8, 25, 4)\n",
    "\n",
    "// Loop through hands\n",
    " while (i < hands.length) {\n",
    "  // Find and print number of points to bust\n",
    "  println(pointsToBust(hands(i)))\n",
    "  // Increment the counter variable\n",
    "  i += 1\n",
    "}"
   ]
  },
  {
   "cell_type": "code",
   "execution_count": null,
   "metadata": {},
   "outputs": [],
   "source": []
  },
  {
   "cell_type": "code",
   "execution_count": null,
   "metadata": {},
   "outputs": [],
   "source": [
    "## Converting while to foreach\n",
    "\n",
    "// Find the number of points that will cause a bust\n",
    "def pointsToBust(hand: Int) = {\n",
    "  // If the hand is a bust, 0 points remain\n",
    "  if (bust(hand))\n",
    "    println(0)\n",
    "  // Otherwise, calculate the difference between 21 and the current hand\n",
    "  else\n",
    "    println(21 - hand)\n",
    "}\n",
    "\n",
    "// Create list with five hands of Twenty-One\n",
    "var hands = List(16, 21, 8, 25, 4)\n",
    "\n",
    "// Loop through hands, finding each hand's number of points to bust\n",
    "hands.foreach(pointsToBust)"
   ]
  },
  {
   "cell_type": "code",
   "execution_count": null,
   "metadata": {},
   "outputs": [],
   "source": []
  },
  {
   "cell_type": "code",
   "execution_count": null,
   "metadata": {},
   "outputs": [],
   "source": []
  },
  {
   "cell_type": "code",
   "execution_count": null,
   "metadata": {},
   "outputs": [],
   "source": []
  },
  {
   "cell_type": "code",
   "execution_count": null,
   "metadata": {},
   "outputs": [],
   "source": []
  },
  {
   "cell_type": "code",
   "execution_count": null,
   "metadata": {},
   "outputs": [],
   "source": []
  }
 ],
 "metadata": {
  "kernelspec": {
   "display_name": "tf-gpu-2.0",
   "language": "python",
   "name": "tf_gpu2"
  },
  "language_info": {
   "codemirror_mode": {
    "name": "ipython",
    "version": 3
   },
   "file_extension": ".py",
   "mimetype": "text/x-python",
   "name": "python",
   "nbconvert_exporter": "python",
   "pygments_lexer": "ipython3",
   "version": "3.7.4"
  }
 },
 "nbformat": 4,
 "nbformat_minor": 2
}
